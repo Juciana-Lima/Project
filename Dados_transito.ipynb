{
 "cells": [
  {
   "cell_type": "code",
   "execution_count": null,
   "id": "f704b1c8",
   "metadata": {},
   "outputs": [],
   "source": [
    "import pandas as pd\n",
    "import numpy as np\n",
    "import matplotlib.pyplot as plt\n",
    "import statistics"
   ]
  },
  {
   "cell_type": "code",
   "execution_count": null,
   "id": "3e3eaea8",
   "metadata": {
    "scrolled": true
   },
   "outputs": [],
   "source": [
    "##Leitura do dataset docentes/turma\n",
    "df=pd.read_csv(\"C:/Treino_R/Transito\\Vitimas_DadosAbertos_20241212.csv\", encoding=\"utf-8\",sep=';')"
   ]
  },
  {
   "cell_type": "code",
   "execution_count": null,
   "id": "509f2371",
   "metadata": {
    "scrolled": true
   },
   "outputs": [],
   "source": [
    "#Visualização do df\n",
    "display(df)"
   ]
  },
  {
   "cell_type": "code",
   "execution_count": null,
   "id": "8c948be1",
   "metadata": {
    "scrolled": true
   },
   "outputs": [],
   "source": [
    "#Nomes das colunas\n",
    "df.columns"
   ]
  },
  {
   "cell_type": "code",
   "execution_count": null,
   "id": "85f97fde",
   "metadata": {},
   "outputs": [],
   "source": [
    "df.drop([\"Unnamed: 3\"],axis=1, inplace=True)"
   ]
  },
  {
   "cell_type": "code",
   "execution_count": null,
   "id": "aafc9ae4",
   "metadata": {},
   "outputs": [],
   "source": [
    "df.drop([\"Unnamed: 4\"],axis=1, inplace=True)"
   ]
  },
  {
   "cell_type": "code",
   "execution_count": null,
   "id": "6d21ba9e",
   "metadata": {
    "scrolled": false
   },
   "outputs": [],
   "source": [
    "df.dtypes"
   ]
  },
  {
   "cell_type": "code",
   "execution_count": null,
   "id": "24cb3770",
   "metadata": {},
   "outputs": [],
   "source": [
    "df.info()"
   ]
  },
  {
   "cell_type": "code",
   "execution_count": null,
   "id": "955061d7",
   "metadata": {
    "scrolled": true
   },
   "outputs": [],
   "source": [
    "df.describe"
   ]
  },
  {
   "cell_type": "code",
   "execution_count": null,
   "id": "ab6556d6",
   "metadata": {
    "scrolled": true
   },
   "outputs": [],
   "source": [
    "x=[\"Quilombolas\",\"Indígenas\"]\n",
    "y=[28124,4708]\n",
    "\n",
    "\n",
    "fig, ax = plt.subplots()\n",
    "labels=[28124,4708]\n",
    "grafico=plt.bar(x,y,color='green', width= 0.6, align='center')\n",
    "plt.title(\"Quantitativo de População Quilambola e Indígena em Sergipe\")\n",
    "ax.bar_label(grafico, fmt=\"%.f\", size=10, label_type=\"edge\")\n",
    "plt.show()"
   ]
  },
  {
   "cell_type": "code",
   "execution_count": null,
   "id": "7486363e",
   "metadata": {},
   "outputs": [],
   "source": [
    "statistics.mean(df[\"Pessoas Indígenas\"])"
   ]
  },
  {
   "cell_type": "code",
   "execution_count": null,
   "id": "dc5e5c63",
   "metadata": {},
   "outputs": [],
   "source": []
  }
 ],
 "metadata": {
  "kernelspec": {
   "display_name": "Python 3 (ipykernel)",
   "language": "python",
   "name": "python3"
  },
  "language_info": {
   "codemirror_mode": {
    "name": "ipython",
    "version": 3
   },
   "file_extension": ".py",
   "mimetype": "text/x-python",
   "name": "python",
   "nbconvert_exporter": "python",
   "pygments_lexer": "ipython3",
   "version": "3.7.1"
  }
 },
 "nbformat": 4,
 "nbformat_minor": 5
}
