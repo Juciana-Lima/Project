{
  "nbformat": 4,
  "nbformat_minor": 0,
  "metadata": {
    "colab": {
      "provenance": [],
      "authorship_tag": "ABX9TyMbXeEUe4YsUdX0TSYZetiK",
      "include_colab_link": true
    },
    "kernelspec": {
      "name": "python3",
      "display_name": "Python 3"
    },
    "language_info": {
      "name": "python"
    }
  },
  "cells": [
    {
      "cell_type": "markdown",
      "metadata": {
        "id": "view-in-github",
        "colab_type": "text"
      },
      "source": [
        "<a href=\"https://colab.research.google.com/github/Juciana-Lima/Juciana-Lima/blob/main/Dados_2019_2023_AE_IFS.ipynb\" target=\"_parent\"><img src=\"https://colab.research.google.com/assets/colab-badge.svg\" alt=\"Open In Colab\"/></a>"
      ]
    },
    {
      "cell_type": "markdown",
      "source": [
        "# Dados da Assitência Estudantil do IFS 2019 a 2023\n",
        "Fonte: portal da transparência (2024)"
      ],
      "metadata": {
        "id": "fjCIyhZHHswc"
      }
    },
    {
      "cell_type": "markdown",
      "source": [
        "## Carregando os pacotes pandas e numpy"
      ],
      "metadata": {
        "id": "WLwXbPMRNAUA"
      }
    },
    {
      "cell_type": "code",
      "execution_count": 116,
      "metadata": {
        "id": "e6716334",
        "outputId": "317bd58f-9289-4706-b760-0f2f1e633cff",
        "colab": {
          "base_uri": "https://localhost:8080/"
        }
      },
      "outputs": [
        {
          "output_type": "stream",
          "name": "stdout",
          "text": [
            "Versão da Linguagem Python usada nesse notebook: <function python_version at 0x7d3f1b6a5750>\n"
          ]
        }
      ],
      "source": [
        "from platform import python_version\n",
        "print(\"Versão da Linguagem Python usada nesse notebook:\", python_version)"
      ]
    },
    {
      "cell_type": "code",
      "execution_count": 99,
      "metadata": {
        "id": "2B7kzx4clej6"
      },
      "outputs": [],
      "source": [
        "import pandas as pd\n",
        "import numpy as np"
      ]
    },
    {
      "cell_type": "code",
      "execution_count": 115,
      "metadata": {
        "id": "LVxjls-7tD9T"
      },
      "outputs": [],
      "source": [
        "from pickle import TRUE\n",
        "dados2019=pd.read_csv(\"/content/despesas2019.csv\",sep=\";\")"
      ]
    },
    {
      "cell_type": "markdown",
      "source": [
        "## Explorando os dados"
      ],
      "metadata": {
        "id": "UlZnkCI0Ov9L"
      }
    },
    {
      "cell_type": "code",
      "source": [
        "display(dados2019.head())"
      ],
      "metadata": {
        "id": "rXGmbqehDfhs",
        "colab": {
          "base_uri": "https://localhost:8080/",
          "height": 741
        },
        "outputId": "287d62fb-5477-4e7e-c517-8531e837a3bf"
      },
      "execution_count": 134,
      "outputs": [
        {
          "output_type": "display_data",
          "data": {
            "text/plain": [
              "   Mês Ano         Órgão Superior Executor  \\\n",
              "0  01/2019  26000 - Ministério da Educação   \n",
              "1  01/2019  26000 - Ministério da Educação   \n",
              "2  01/2019  26000 - Ministério da Educação   \n",
              "3  01/2019  26000 - Ministério da Educação   \n",
              "4  01/2019  26000 - Ministério da Educação   \n",
              "\n",
              "     Órgão/Entidade Vinculada Executora  \\\n",
              "0  26423 - Instituto Federal de Sergipe   \n",
              "1  26423 - Instituto Federal de Sergipe   \n",
              "2  26423 - Instituto Federal de Sergipe   \n",
              "3  26423 - Instituto Federal de Sergipe   \n",
              "4  26423 - Instituto Federal de Sergipe   \n",
              "\n",
              "                                     Unidade Gestora  \\\n",
              "0  158392 - INST. FED. DE SERGIPE/CAMPUS SAO CRIS...   \n",
              "1  158134 - INST.FED.DE EDUC.,CIENC.E TEC.DE SERGIPE   \n",
              "2     152426 - INST. FED. DE SERGIPE/CAMPUS ESTANCIA   \n",
              "3  154680 - INST. FED. SERGIPE/CAMPUS N. SRA. DO ...   \n",
              "4  154681 - INSTITUTO FED. DE SERGIPE - CAMPUS PR...   \n",
              "\n",
              "      Órgão Superior Orçamentário           Órgão/Entidade Orcamentária  \\\n",
              "0  26000 - Ministério da Educação  26423 - Instituto Federal de Sergipe   \n",
              "1  26000 - Ministério da Educação  26423 - Instituto Federal de Sergipe   \n",
              "2  26000 - Ministério da Educação  26423 - Instituto Federal de Sergipe   \n",
              "3  26000 - Ministério da Educação  26423 - Instituto Federal de Sergipe   \n",
              "4  26000 - Ministério da Educação  26423 - Instituto Federal de Sergipe   \n",
              "\n",
              "                               Unidade Orçamentária Área de atuação (Função)  \\\n",
              "0  26423 - INST.FED.DE EDUC.,CIENC.E TEC.DE SERGIPE            12 - Educação   \n",
              "1  26423 - INST.FED.DE EDUC.,CIENC.E TEC.DE SERGIPE            12 - Educação   \n",
              "2  26423 - INST.FED.DE EDUC.,CIENC.E TEC.DE SERGIPE            12 - Educação   \n",
              "3  26423 - INST.FED.DE EDUC.,CIENC.E TEC.DE SERGIPE            12 - Educação   \n",
              "4  26423 - INST.FED.DE EDUC.,CIENC.E TEC.DE SERGIPE            12 - Educação   \n",
              "\n",
              "                   Subfunção                    Programa Orçamentário  ...  \\\n",
              "0  363 - Ensino profissional  2080 - EDUCACAO DE QUALIDADE PARA TODOS  ...   \n",
              "1  363 - Ensino profissional  2080 - EDUCACAO DE QUALIDADE PARA TODOS  ...   \n",
              "2  363 - Ensino profissional  2080 - EDUCACAO DE QUALIDADE PARA TODOS  ...   \n",
              "3  363 - Ensino profissional  2080 - EDUCACAO DE QUALIDADE PARA TODOS  ...   \n",
              "4  363 - Ensino profissional  2080 - EDUCACAO DE QUALIDADE PARA TODOS  ...   \n",
              "\n",
              "  Autor Emenda                                 Plano Orçamentário  \\\n",
              "0            0  0000 - ASSISTENCIA AOS ESTUDANTES DAS INSTITUI...   \n",
              "1            0  0000 - ASSISTENCIA AOS ESTUDANTES DAS INSTITUI...   \n",
              "2            0  0000 - ASSISTENCIA AOS ESTUDANTES DAS INSTITUI...   \n",
              "3            0  0000 - ASSISTENCIA AOS ESTUDANTES DAS INSTITUI...   \n",
              "4            0  0000 - ASSISTENCIA AOS ESTUDANTES DAS INSTITUI...   \n",
              "\n",
              "                Grupo de Despesa                   Elemento de Despesa  \\\n",
              "0  3 - Outras Despesas Correntes  18 - Auxílio Financeiro a Estudantes   \n",
              "1  3 - Outras Despesas Correntes  18 - Auxílio Financeiro a Estudantes   \n",
              "2  3 - Outras Despesas Correntes  18 - Auxílio Financeiro a Estudantes   \n",
              "3  3 - Outras Despesas Correntes  18 - Auxílio Financeiro a Estudantes   \n",
              "4  3 - Outras Despesas Correntes  18 - Auxílio Financeiro a Estudantes   \n",
              "\n",
              "     Modalidade de Despesa Valor Empenhado Valor Liquidado Valor Pago  \\\n",
              "0  90 - Aplicações Diretas            0,00            0,00       0,00   \n",
              "1  90 - Aplicações Diretas            0,00            0,00       0,00   \n",
              "2  90 - Aplicações Diretas            0,00            0,00       0,00   \n",
              "3  90 - Aplicações Diretas            0,00            0,00       0,00   \n",
              "4  90 - Aplicações Diretas            0,00            0,00       0,00   \n",
              "\n",
              "  Valor Restos a Pagar Pagos Unnamed: 21  \n",
              "0                  14.550,00         NaN  \n",
              "1                   2.250,00         NaN  \n",
              "2                  48.424,00         NaN  \n",
              "3                  15.650,00         NaN  \n",
              "4                     160,00         NaN  \n",
              "\n",
              "[5 rows x 22 columns]"
            ],
            "text/html": [
              "\n",
              "  <div id=\"df-ba428519-12b4-4d2c-a942-caeedee548e5\" class=\"colab-df-container\">\n",
              "    <div>\n",
              "<style scoped>\n",
              "    .dataframe tbody tr th:only-of-type {\n",
              "        vertical-align: middle;\n",
              "    }\n",
              "\n",
              "    .dataframe tbody tr th {\n",
              "        vertical-align: top;\n",
              "    }\n",
              "\n",
              "    .dataframe thead th {\n",
              "        text-align: right;\n",
              "    }\n",
              "</style>\n",
              "<table border=\"1\" class=\"dataframe\">\n",
              "  <thead>\n",
              "    <tr style=\"text-align: right;\">\n",
              "      <th></th>\n",
              "      <th>Mês Ano</th>\n",
              "      <th>Órgão Superior Executor</th>\n",
              "      <th>Órgão/Entidade Vinculada Executora</th>\n",
              "      <th>Unidade Gestora</th>\n",
              "      <th>Órgão Superior Orçamentário</th>\n",
              "      <th>Órgão/Entidade Orcamentária</th>\n",
              "      <th>Unidade Orçamentária</th>\n",
              "      <th>Área de atuação (Função)</th>\n",
              "      <th>Subfunção</th>\n",
              "      <th>Programa Orçamentário</th>\n",
              "      <th>...</th>\n",
              "      <th>Autor Emenda</th>\n",
              "      <th>Plano Orçamentário</th>\n",
              "      <th>Grupo de Despesa</th>\n",
              "      <th>Elemento de Despesa</th>\n",
              "      <th>Modalidade de Despesa</th>\n",
              "      <th>Valor Empenhado</th>\n",
              "      <th>Valor Liquidado</th>\n",
              "      <th>Valor Pago</th>\n",
              "      <th>Valor Restos a Pagar Pagos</th>\n",
              "      <th>Unnamed: 21</th>\n",
              "    </tr>\n",
              "  </thead>\n",
              "  <tbody>\n",
              "    <tr>\n",
              "      <th>0</th>\n",
              "      <td>01/2019</td>\n",
              "      <td>26000 - Ministério da Educação</td>\n",
              "      <td>26423 - Instituto Federal de Sergipe</td>\n",
              "      <td>158392 - INST. FED. DE SERGIPE/CAMPUS SAO CRIS...</td>\n",
              "      <td>26000 - Ministério da Educação</td>\n",
              "      <td>26423 - Instituto Federal de Sergipe</td>\n",
              "      <td>26423 - INST.FED.DE EDUC.,CIENC.E TEC.DE SERGIPE</td>\n",
              "      <td>12 - Educação</td>\n",
              "      <td>363 - Ensino profissional</td>\n",
              "      <td>2080 - EDUCACAO DE QUALIDADE PARA TODOS</td>\n",
              "      <td>...</td>\n",
              "      <td>0</td>\n",
              "      <td>0000 - ASSISTENCIA AOS ESTUDANTES DAS INSTITUI...</td>\n",
              "      <td>3 - Outras Despesas Correntes</td>\n",
              "      <td>18 - Auxílio Financeiro a Estudantes</td>\n",
              "      <td>90 - Aplicações Diretas</td>\n",
              "      <td>0,00</td>\n",
              "      <td>0,00</td>\n",
              "      <td>0,00</td>\n",
              "      <td>14.550,00</td>\n",
              "      <td>NaN</td>\n",
              "    </tr>\n",
              "    <tr>\n",
              "      <th>1</th>\n",
              "      <td>01/2019</td>\n",
              "      <td>26000 - Ministério da Educação</td>\n",
              "      <td>26423 - Instituto Federal de Sergipe</td>\n",
              "      <td>158134 - INST.FED.DE EDUC.,CIENC.E TEC.DE SERGIPE</td>\n",
              "      <td>26000 - Ministério da Educação</td>\n",
              "      <td>26423 - Instituto Federal de Sergipe</td>\n",
              "      <td>26423 - INST.FED.DE EDUC.,CIENC.E TEC.DE SERGIPE</td>\n",
              "      <td>12 - Educação</td>\n",
              "      <td>363 - Ensino profissional</td>\n",
              "      <td>2080 - EDUCACAO DE QUALIDADE PARA TODOS</td>\n",
              "      <td>...</td>\n",
              "      <td>0</td>\n",
              "      <td>0000 - ASSISTENCIA AOS ESTUDANTES DAS INSTITUI...</td>\n",
              "      <td>3 - Outras Despesas Correntes</td>\n",
              "      <td>18 - Auxílio Financeiro a Estudantes</td>\n",
              "      <td>90 - Aplicações Diretas</td>\n",
              "      <td>0,00</td>\n",
              "      <td>0,00</td>\n",
              "      <td>0,00</td>\n",
              "      <td>2.250,00</td>\n",
              "      <td>NaN</td>\n",
              "    </tr>\n",
              "    <tr>\n",
              "      <th>2</th>\n",
              "      <td>01/2019</td>\n",
              "      <td>26000 - Ministério da Educação</td>\n",
              "      <td>26423 - Instituto Federal de Sergipe</td>\n",
              "      <td>152426 - INST. FED. DE SERGIPE/CAMPUS ESTANCIA</td>\n",
              "      <td>26000 - Ministério da Educação</td>\n",
              "      <td>26423 - Instituto Federal de Sergipe</td>\n",
              "      <td>26423 - INST.FED.DE EDUC.,CIENC.E TEC.DE SERGIPE</td>\n",
              "      <td>12 - Educação</td>\n",
              "      <td>363 - Ensino profissional</td>\n",
              "      <td>2080 - EDUCACAO DE QUALIDADE PARA TODOS</td>\n",
              "      <td>...</td>\n",
              "      <td>0</td>\n",
              "      <td>0000 - ASSISTENCIA AOS ESTUDANTES DAS INSTITUI...</td>\n",
              "      <td>3 - Outras Despesas Correntes</td>\n",
              "      <td>18 - Auxílio Financeiro a Estudantes</td>\n",
              "      <td>90 - Aplicações Diretas</td>\n",
              "      <td>0,00</td>\n",
              "      <td>0,00</td>\n",
              "      <td>0,00</td>\n",
              "      <td>48.424,00</td>\n",
              "      <td>NaN</td>\n",
              "    </tr>\n",
              "    <tr>\n",
              "      <th>3</th>\n",
              "      <td>01/2019</td>\n",
              "      <td>26000 - Ministério da Educação</td>\n",
              "      <td>26423 - Instituto Federal de Sergipe</td>\n",
              "      <td>154680 - INST. FED. SERGIPE/CAMPUS N. SRA. DO ...</td>\n",
              "      <td>26000 - Ministério da Educação</td>\n",
              "      <td>26423 - Instituto Federal de Sergipe</td>\n",
              "      <td>26423 - INST.FED.DE EDUC.,CIENC.E TEC.DE SERGIPE</td>\n",
              "      <td>12 - Educação</td>\n",
              "      <td>363 - Ensino profissional</td>\n",
              "      <td>2080 - EDUCACAO DE QUALIDADE PARA TODOS</td>\n",
              "      <td>...</td>\n",
              "      <td>0</td>\n",
              "      <td>0000 - ASSISTENCIA AOS ESTUDANTES DAS INSTITUI...</td>\n",
              "      <td>3 - Outras Despesas Correntes</td>\n",
              "      <td>18 - Auxílio Financeiro a Estudantes</td>\n",
              "      <td>90 - Aplicações Diretas</td>\n",
              "      <td>0,00</td>\n",
              "      <td>0,00</td>\n",
              "      <td>0,00</td>\n",
              "      <td>15.650,00</td>\n",
              "      <td>NaN</td>\n",
              "    </tr>\n",
              "    <tr>\n",
              "      <th>4</th>\n",
              "      <td>01/2019</td>\n",
              "      <td>26000 - Ministério da Educação</td>\n",
              "      <td>26423 - Instituto Federal de Sergipe</td>\n",
              "      <td>154681 - INSTITUTO FED. DE SERGIPE - CAMPUS PR...</td>\n",
              "      <td>26000 - Ministério da Educação</td>\n",
              "      <td>26423 - Instituto Federal de Sergipe</td>\n",
              "      <td>26423 - INST.FED.DE EDUC.,CIENC.E TEC.DE SERGIPE</td>\n",
              "      <td>12 - Educação</td>\n",
              "      <td>363 - Ensino profissional</td>\n",
              "      <td>2080 - EDUCACAO DE QUALIDADE PARA TODOS</td>\n",
              "      <td>...</td>\n",
              "      <td>0</td>\n",
              "      <td>0000 - ASSISTENCIA AOS ESTUDANTES DAS INSTITUI...</td>\n",
              "      <td>3 - Outras Despesas Correntes</td>\n",
              "      <td>18 - Auxílio Financeiro a Estudantes</td>\n",
              "      <td>90 - Aplicações Diretas</td>\n",
              "      <td>0,00</td>\n",
              "      <td>0,00</td>\n",
              "      <td>0,00</td>\n",
              "      <td>160,00</td>\n",
              "      <td>NaN</td>\n",
              "    </tr>\n",
              "  </tbody>\n",
              "</table>\n",
              "<p>5 rows × 22 columns</p>\n",
              "</div>\n",
              "    <div class=\"colab-df-buttons\">\n",
              "\n",
              "  <div class=\"colab-df-container\">\n",
              "    <button class=\"colab-df-convert\" onclick=\"convertToInteractive('df-ba428519-12b4-4d2c-a942-caeedee548e5')\"\n",
              "            title=\"Convert this dataframe to an interactive table.\"\n",
              "            style=\"display:none;\">\n",
              "\n",
              "  <svg xmlns=\"http://www.w3.org/2000/svg\" height=\"24px\" viewBox=\"0 -960 960 960\">\n",
              "    <path d=\"M120-120v-720h720v720H120Zm60-500h600v-160H180v160Zm220 220h160v-160H400v160Zm0 220h160v-160H400v160ZM180-400h160v-160H180v160Zm440 0h160v-160H620v160ZM180-180h160v-160H180v160Zm440 0h160v-160H620v160Z\"/>\n",
              "  </svg>\n",
              "    </button>\n",
              "\n",
              "  <style>\n",
              "    .colab-df-container {\n",
              "      display:flex;\n",
              "      gap: 12px;\n",
              "    }\n",
              "\n",
              "    .colab-df-convert {\n",
              "      background-color: #E8F0FE;\n",
              "      border: none;\n",
              "      border-radius: 50%;\n",
              "      cursor: pointer;\n",
              "      display: none;\n",
              "      fill: #1967D2;\n",
              "      height: 32px;\n",
              "      padding: 0 0 0 0;\n",
              "      width: 32px;\n",
              "    }\n",
              "\n",
              "    .colab-df-convert:hover {\n",
              "      background-color: #E2EBFA;\n",
              "      box-shadow: 0px 1px 2px rgba(60, 64, 67, 0.3), 0px 1px 3px 1px rgba(60, 64, 67, 0.15);\n",
              "      fill: #174EA6;\n",
              "    }\n",
              "\n",
              "    .colab-df-buttons div {\n",
              "      margin-bottom: 4px;\n",
              "    }\n",
              "\n",
              "    [theme=dark] .colab-df-convert {\n",
              "      background-color: #3B4455;\n",
              "      fill: #D2E3FC;\n",
              "    }\n",
              "\n",
              "    [theme=dark] .colab-df-convert:hover {\n",
              "      background-color: #434B5C;\n",
              "      box-shadow: 0px 1px 3px 1px rgba(0, 0, 0, 0.15);\n",
              "      filter: drop-shadow(0px 1px 2px rgba(0, 0, 0, 0.3));\n",
              "      fill: #FFFFFF;\n",
              "    }\n",
              "  </style>\n",
              "\n",
              "    <script>\n",
              "      const buttonEl =\n",
              "        document.querySelector('#df-ba428519-12b4-4d2c-a942-caeedee548e5 button.colab-df-convert');\n",
              "      buttonEl.style.display =\n",
              "        google.colab.kernel.accessAllowed ? 'block' : 'none';\n",
              "\n",
              "      async function convertToInteractive(key) {\n",
              "        const element = document.querySelector('#df-ba428519-12b4-4d2c-a942-caeedee548e5');\n",
              "        const dataTable =\n",
              "          await google.colab.kernel.invokeFunction('convertToInteractive',\n",
              "                                                    [key], {});\n",
              "        if (!dataTable) return;\n",
              "\n",
              "        const docLinkHtml = 'Like what you see? Visit the ' +\n",
              "          '<a target=\"_blank\" href=https://colab.research.google.com/notebooks/data_table.ipynb>data table notebook</a>'\n",
              "          + ' to learn more about interactive tables.';\n",
              "        element.innerHTML = '';\n",
              "        dataTable['output_type'] = 'display_data';\n",
              "        await google.colab.output.renderOutput(dataTable, element);\n",
              "        const docLink = document.createElement('div');\n",
              "        docLink.innerHTML = docLinkHtml;\n",
              "        element.appendChild(docLink);\n",
              "      }\n",
              "    </script>\n",
              "  </div>\n",
              "\n",
              "\n",
              "<div id=\"df-c54307b8-0cb6-45f0-bd72-085c4171db8d\">\n",
              "  <button class=\"colab-df-quickchart\" onclick=\"quickchart('df-c54307b8-0cb6-45f0-bd72-085c4171db8d')\"\n",
              "            title=\"Suggest charts\"\n",
              "            style=\"display:none;\">\n",
              "\n",
              "<svg xmlns=\"http://www.w3.org/2000/svg\" height=\"24px\"viewBox=\"0 0 24 24\"\n",
              "     width=\"24px\">\n",
              "    <g>\n",
              "        <path d=\"M19 3H5c-1.1 0-2 .9-2 2v14c0 1.1.9 2 2 2h14c1.1 0 2-.9 2-2V5c0-1.1-.9-2-2-2zM9 17H7v-7h2v7zm4 0h-2V7h2v10zm4 0h-2v-4h2v4z\"/>\n",
              "    </g>\n",
              "</svg>\n",
              "  </button>\n",
              "\n",
              "<style>\n",
              "  .colab-df-quickchart {\n",
              "      --bg-color: #E8F0FE;\n",
              "      --fill-color: #1967D2;\n",
              "      --hover-bg-color: #E2EBFA;\n",
              "      --hover-fill-color: #174EA6;\n",
              "      --disabled-fill-color: #AAA;\n",
              "      --disabled-bg-color: #DDD;\n",
              "  }\n",
              "\n",
              "  [theme=dark] .colab-df-quickchart {\n",
              "      --bg-color: #3B4455;\n",
              "      --fill-color: #D2E3FC;\n",
              "      --hover-bg-color: #434B5C;\n",
              "      --hover-fill-color: #FFFFFF;\n",
              "      --disabled-bg-color: #3B4455;\n",
              "      --disabled-fill-color: #666;\n",
              "  }\n",
              "\n",
              "  .colab-df-quickchart {\n",
              "    background-color: var(--bg-color);\n",
              "    border: none;\n",
              "    border-radius: 50%;\n",
              "    cursor: pointer;\n",
              "    display: none;\n",
              "    fill: var(--fill-color);\n",
              "    height: 32px;\n",
              "    padding: 0;\n",
              "    width: 32px;\n",
              "  }\n",
              "\n",
              "  .colab-df-quickchart:hover {\n",
              "    background-color: var(--hover-bg-color);\n",
              "    box-shadow: 0 1px 2px rgba(60, 64, 67, 0.3), 0 1px 3px 1px rgba(60, 64, 67, 0.15);\n",
              "    fill: var(--button-hover-fill-color);\n",
              "  }\n",
              "\n",
              "  .colab-df-quickchart-complete:disabled,\n",
              "  .colab-df-quickchart-complete:disabled:hover {\n",
              "    background-color: var(--disabled-bg-color);\n",
              "    fill: var(--disabled-fill-color);\n",
              "    box-shadow: none;\n",
              "  }\n",
              "\n",
              "  .colab-df-spinner {\n",
              "    border: 2px solid var(--fill-color);\n",
              "    border-color: transparent;\n",
              "    border-bottom-color: var(--fill-color);\n",
              "    animation:\n",
              "      spin 1s steps(1) infinite;\n",
              "  }\n",
              "\n",
              "  @keyframes spin {\n",
              "    0% {\n",
              "      border-color: transparent;\n",
              "      border-bottom-color: var(--fill-color);\n",
              "      border-left-color: var(--fill-color);\n",
              "    }\n",
              "    20% {\n",
              "      border-color: transparent;\n",
              "      border-left-color: var(--fill-color);\n",
              "      border-top-color: var(--fill-color);\n",
              "    }\n",
              "    30% {\n",
              "      border-color: transparent;\n",
              "      border-left-color: var(--fill-color);\n",
              "      border-top-color: var(--fill-color);\n",
              "      border-right-color: var(--fill-color);\n",
              "    }\n",
              "    40% {\n",
              "      border-color: transparent;\n",
              "      border-right-color: var(--fill-color);\n",
              "      border-top-color: var(--fill-color);\n",
              "    }\n",
              "    60% {\n",
              "      border-color: transparent;\n",
              "      border-right-color: var(--fill-color);\n",
              "    }\n",
              "    80% {\n",
              "      border-color: transparent;\n",
              "      border-right-color: var(--fill-color);\n",
              "      border-bottom-color: var(--fill-color);\n",
              "    }\n",
              "    90% {\n",
              "      border-color: transparent;\n",
              "      border-bottom-color: var(--fill-color);\n",
              "    }\n",
              "  }\n",
              "</style>\n",
              "\n",
              "  <script>\n",
              "    async function quickchart(key) {\n",
              "      const quickchartButtonEl =\n",
              "        document.querySelector('#' + key + ' button');\n",
              "      quickchartButtonEl.disabled = true;  // To prevent multiple clicks.\n",
              "      quickchartButtonEl.classList.add('colab-df-spinner');\n",
              "      try {\n",
              "        const charts = await google.colab.kernel.invokeFunction(\n",
              "            'suggestCharts', [key], {});\n",
              "      } catch (error) {\n",
              "        console.error('Error during call to suggestCharts:', error);\n",
              "      }\n",
              "      quickchartButtonEl.classList.remove('colab-df-spinner');\n",
              "      quickchartButtonEl.classList.add('colab-df-quickchart-complete');\n",
              "    }\n",
              "    (() => {\n",
              "      let quickchartButtonEl =\n",
              "        document.querySelector('#df-c54307b8-0cb6-45f0-bd72-085c4171db8d button');\n",
              "      quickchartButtonEl.style.display =\n",
              "        google.colab.kernel.accessAllowed ? 'block' : 'none';\n",
              "    })();\n",
              "  </script>\n",
              "</div>\n",
              "\n",
              "    </div>\n",
              "  </div>\n"
            ]
          },
          "metadata": {}
        }
      ]
    },
    {
      "cell_type": "code",
      "source": [
        "dados2019.drop([\"Órgão Superior Executor\",\"Órgão Superior Orçamentário\",\"Unidade Orçamentária\",\"Área de atuação (Função)\",\"Subfunção\",\"Unnamed: 21\",\n",
        "                \"Modalidade de Despesa\",\"Grupo de Despesa\",\"Plano Orçamentário\",\"Órgão/Entidade Orcamentária\",\"Programa Orçamentário\",\"Autor Emenda\",\n",
        "                \"Programa de Governo\"],axis=1, inplace=True)"
      ],
      "metadata": {
        "id": "asHN-hS6Iobd"
      },
      "execution_count": 135,
      "outputs": []
    },
    {
      "cell_type": "code",
      "source": [
        "dados2019.dtypes"
      ],
      "metadata": {
        "colab": {
          "base_uri": "https://localhost:8080/"
        },
        "id": "BWUxlL76fK4t",
        "outputId": "ed83c46c-0fc8-4c71-d114-1165f2fafa74"
      },
      "execution_count": 136,
      "outputs": [
        {
          "output_type": "execute_result",
          "data": {
            "text/plain": [
              "Mês Ano                               object\n",
              "Órgão/Entidade Vinculada Executora    object\n",
              "Unidade Gestora                       object\n",
              "Ação Orçamentária                     object\n",
              "Elemento de Despesa                   object\n",
              "Valor Empenhado                       object\n",
              "Valor Liquidado                       object\n",
              "Valor Pago                            object\n",
              "Valor Restos a Pagar Pagos            object\n",
              "dtype: object"
            ]
          },
          "metadata": {},
          "execution_count": 136
        }
      ]
    },
    {
      "cell_type": "code",
      "execution_count": 137,
      "metadata": {
        "id": "edacbfae",
        "colab": {
          "base_uri": "https://localhost:8080/"
        },
        "outputId": "06c3deec-e9b2-406d-9040-807c68caef14"
      },
      "outputs": [
        {
          "output_type": "execute_result",
          "data": {
            "text/plain": [
              "152426 - INST. FED. DE SERGIPE/CAMPUS ESTANCIA           12\n",
              "154680 - INST. FED. SERGIPE/CAMPUS N. SRA. DO SOCORRO    12\n",
              "158393 - INST. FED. DE SERGIPE/CAMPUS ARACAJU            12\n",
              "158392 - INST. FED. DE SERGIPE/CAMPUS SAO CRISTOVAO      11\n",
              "154681 - INSTITUTO FED. DE SERGIPE - CAMPUS PROPRIA      11\n",
              "158394 - INST. FED. DE SERGIPE/CAMPUS LAGARTO            11\n",
              "152430 - INST. FED. DE SERGIPE/CAMPUS ITABAIANA          11\n",
              "152420 - INST. FED. DE SERGIPE/CAMPUS N.Sª DA GLORIA     11\n",
              "158134 - INST.FED.DE EDUC.,CIENC.E TEC.DE SERGIPE         9\n",
              "154679 - INSTIT FED. DE SERGIPE/CAMPUS TOBIAS BARRETO     9\n",
              "Name: Unidade Gestora, dtype: int64"
            ]
          },
          "metadata": {},
          "execution_count": 137
        }
      ],
      "source": [
        "dados2019['Unidade Gestora'].value_counts()"
      ]
    },
    {
      "cell_type": "code",
      "source": [
        "dados2019['Elemento de Despesa'].value_counts()"
      ],
      "metadata": {
        "colab": {
          "base_uri": "https://localhost:8080/"
        },
        "id": "VermAza5i9_b",
        "outputId": "b314ee57-441e-4207-a981-f172f59e166a"
      },
      "execution_count": 138,
      "outputs": [
        {
          "output_type": "execute_result",
          "data": {
            "text/plain": [
              "18 - Auxílio Financeiro a Estudantes    109\n",
              "Name: Elemento de Despesa, dtype: int64"
            ]
          },
          "metadata": {},
          "execution_count": 138
        }
      ]
    },
    {
      "cell_type": "code",
      "execution_count": 140,
      "metadata": {
        "id": "5c4f2c6b",
        "colab": {
          "base_uri": "https://localhost:8080/"
        },
        "outputId": "68d20b80-949b-4d94-a697-f08433771d03"
      },
      "outputs": [
        {
          "output_type": "stream",
          "name": "stdout",
          "text": [
            "<class 'pandas.core.frame.DataFrame'>\n",
            "RangeIndex: 109 entries, 0 to 108\n",
            "Data columns (total 9 columns):\n",
            " #   Column                              Non-Null Count  Dtype \n",
            "---  ------                              --------------  ----- \n",
            " 0   Mês Ano                             109 non-null    object\n",
            " 1   Órgão/Entidade Vinculada Executora  109 non-null    object\n",
            " 2   Unidade Gestora                     109 non-null    object\n",
            " 3   Ação Orçamentária                   109 non-null    object\n",
            " 4   Elemento de Despesa                 109 non-null    object\n",
            " 5   Valor Empenhado                     109 non-null    object\n",
            " 6   Valor Liquidado                     109 non-null    object\n",
            " 7   Valor Pago                          109 non-null    object\n",
            " 8   Valor Restos a Pagar Pagos          109 non-null    object\n",
            "dtypes: object(9)\n",
            "memory usage: 7.8+ KB\n"
          ]
        }
      ],
      "source": [
        "dados2019.info()"
      ]
    },
    {
      "cell_type": "code",
      "execution_count": 141,
      "metadata": {
        "id": "69c726f0"
      },
      "outputs": [],
      "source": [
        "dados2019.to_csv('2019_dados.csv')"
      ]
    }
  ]
}